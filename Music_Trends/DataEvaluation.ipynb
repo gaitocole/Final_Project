{
 "cells": [
  {
   "cell_type": "code",
   "execution_count": 1,
   "metadata": {},
   "outputs": [
    {
     "name": "stdout",
     "output_type": "stream",
     "text": [
      "Hello, World!\n"
     ]
    }
   ],
   "source": [
    "print(\"Hello, World!\")"
   ]
  },
  {
   "cell_type": "code",
   "execution_count": 5,
   "metadata": {},
   "outputs": [
    {
     "name": "stdout",
     "output_type": "stream",
     "text": [
      "Packages Loaded!\n"
     ]
    }
   ],
   "source": [
    "import pandas as pd\n",
    "import numpy as np\n",
    "import matplotlib.pyplot as plt\n",
    "import seaborn as sns\n",
    "\n",
    "print(\"Packages Loaded!\")"
   ]
  },
  {
   "cell_type": "code",
   "execution_count": 10,
   "metadata": {},
   "outputs": [
    {
     "name": "stdout",
     "output_type": "stream",
     "text": [
      "       date  rank                Song                               Artist  \\\n",
      "0  10/12/24     1  A Bar Song (Tipsy)                            Shaboozey   \n",
      "1  10/12/24     2  Birds Of A Feather                        Billie Eilish   \n",
      "2  10/12/24     3            Timeless           The Weeknd & Playboi Carti   \n",
      "3  10/12/24     4     I Had Some Help  Post Malone Featuring Morgan Wallen   \n",
      "4  10/12/24     5            Espresso                    Sabrina Carpenter   \n",
      "\n",
      "                                  Concat Song/Artist  last-week  peak-rank  \\\n",
      "0                      A Bar Song (Tipsy), Shaboozey        1.0          1   \n",
      "1                  Birds Of A Feather, Billie Eilish        6.0          2   \n",
      "2               Timeless, The Weeknd & Playboi Carti        0.0          3   \n",
      "3  I Had Some Help, Post Malone Featuring Morgan ...        2.0          1   \n",
      "4                        Espresso, Sabrina Carpenter        3.0          3   \n",
      "\n",
      "   weeks-on-board                                         Lyrics Url  \\\n",
      "0              25  https://genius.com/Shaboozey-a-bar-song-tipsy-...   \n",
      "1              20  https://genius.com/Billie-eilish-birds-of-a-fe...   \n",
      "2               1  https://genius.com/The-weeknd-and-playboi-cart...   \n",
      "3              21  https://genius.com/Maxenn-maxenns-transcriptio...   \n",
      "4              25  https://genius.com/Sabrina-carpenter-espresso-...   \n",
      "\n",
      "                                              Lyrics Track Popularity  \\\n",
      "0  [Verse 1]\\nMy baby want a Birkin, she's been t...               88   \n",
      "1  [Intro]\\n[Verse 1]\\nI want you to stay\\n'Til I...               98   \n",
      "2  [Intro: The Weeknd]\\nXO\\nOoh, yeah, ooh, yeah,...               91   \n",
      "3  Most Popular Scribes\\n2,500,000+ views\\n (12)\\...                0   \n",
      "4  [Chorus]\\nNow he's thinkin' 'bout me every nig...               93   \n",
      "\n",
      "  Track Explicit                 Album Album Release Date  Artist Popularity  \\\n",
      "0           TRUE    A Bar Song (Tipsy)         2024-04-12               81.0   \n",
      "1          FALSE  HIT ME HARD AND SOFT         2024-05-17               96.0   \n",
      "2           TRUE              Timeless         2024-09-27               96.0   \n",
      "3              0                     0                  0                0.0   \n",
      "4           TRUE              Espresso         2024-04-12               95.0   \n",
      "\n",
      "                                  Artist Genres                Track ID  \\\n",
      "0                   modern country pop, pop rap  2FQrifJ1N335Ljm3TjTVVf   \n",
      "1                                  art pop, pop  6dOtVTDdiauQNBQEDOtlAB   \n",
      "2  canadian contemporary r&b, canadian pop, pop  1Es7AUAhQvapIcoh3qMKDL   \n",
      "3                                             0                       0   \n",
      "4                                           pop  2qSkIjg1o9h3YT9RAgYN75   \n",
      "\n",
      "   Total Tracks in Album  \n",
      "0                    1.0  \n",
      "1                   10.0  \n",
      "2                    1.0  \n",
      "3                    0.0  \n",
      "4                    1.0  \n"
     ]
    },
    {
     "name": "stderr",
     "output_type": "stream",
     "text": [
      "/var/folders/57/x0v59fzn1cd1_vltg3v6p9bc0000gn/T/ipykernel_46525/2589445044.py:1: DtypeWarning: Columns (10) have mixed types. Specify dtype option on import or set low_memory=False.\n",
      "  df = pd.read_csv('charts.csv')\n"
     ]
    }
   ],
   "source": [
    "df = pd.read_csv('charts.csv')\n",
    "print(df.head())"
   ]
  },
  {
   "cell_type": "code",
   "execution_count": 11,
   "metadata": {},
   "outputs": [
    {
     "name": "stdout",
     "output_type": "stream",
     "text": [
      "                rank      last-week      peak-rank  weeks-on-board  \\\n",
      "count  345387.000000  312926.000000  345387.000000   345387.000000   \n",
      "mean       50.500887      47.185897      40.585804        9.319534   \n",
      "std        28.866093      28.218618      29.323824        7.918380   \n",
      "min         1.000000       0.000000       1.000000        1.000000   \n",
      "25%        26.000000      23.000000      13.000000        4.000000   \n",
      "50%        51.000000      46.000000      38.000000        7.000000   \n",
      "75%        76.000000      71.000000      65.000000       13.000000   \n",
      "max       100.000000     100.000000     100.000000       91.000000   \n",
      "\n",
      "       Artist Popularity  Total Tracks in Album  \n",
      "count      311738.000000          311738.000000  \n",
      "mean           50.988231              12.629432  \n",
      "std            28.418204              12.191572  \n",
      "min             0.000000               0.000000  \n",
      "25%            35.000000               9.000000  \n",
      "50%            58.000000              12.000000  \n",
      "75%            72.000000              15.000000  \n",
      "max           100.000000             431.000000  \n"
     ]
    }
   ],
   "source": [
    "print(df.describe())"
   ]
  },
  {
   "cell_type": "code",
   "execution_count": null,
   "metadata": {},
   "outputs": [],
   "source": []
  }
 ],
 "metadata": {
  "kernelspec": {
   "display_name": "env",
   "language": "python",
   "name": "python3"
  },
  "language_info": {
   "codemirror_mode": {
    "name": "ipython",
    "version": 3
   },
   "file_extension": ".py",
   "mimetype": "text/x-python",
   "name": "python",
   "nbconvert_exporter": "python",
   "pygments_lexer": "ipython3",
   "version": "3.13.0"
  }
 },
 "nbformat": 4,
 "nbformat_minor": 2
}
